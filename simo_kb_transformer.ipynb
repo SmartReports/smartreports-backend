{
 "cells": [
  {
   "cell_type": "code",
   "execution_count": 3,
   "metadata": {},
   "outputs": [],
   "source": [
    "import pandas as pd\n",
    "import datetime\n",
    "\n",
    "data = pd.read_csv('kb.csv', index_col=0)\n",
    "\n",
    "data['date'] = data.index\n",
    "\n",
    "data['date'] = pd.to_datetime(data['date'])\n",
    "\n",
    "data.reset_index( inplace=True)\n",
    "\n",
    "# only the last 4 columns\n",
    "data = data.iloc[:, -5:]\n",
    "\n",
    "result_df = data.groupby(data['date'].dt.date).mean().drop(columns=['date'])\n",
    "\n",
    "\n",
    "\n",
    "result_df.to_csv('kb_daily.csv')\n",
    "\n",
    "# data\n",
    "\n"
   ]
  },
  {
   "cell_type": "code",
   "execution_count": 4,
   "metadata": {},
   "outputs": [
    {
     "data": {
      "text/plain": [
       "[0.7093253968253967,\n",
       " 0.6359126984126984,\n",
       " 0.6374007936507936,\n",
       " 0.7324735449735449,\n",
       " 0.5219907407407407,\n",
       " 0.6121031746031745,\n",
       " 0.5714285714285714]"
      ]
     },
     "execution_count": 4,
     "metadata": {},
     "output_type": "execute_result"
    }
   ],
   "source": [
    "name = 'all_machines_availability'\n",
    "\n",
    "# get the values for this column as list\n",
    "result_df['all_machines_availability'].tolist()"
   ]
  }
 ],
 "metadata": {
  "kernelspec": {
   "display_name": "smartreports",
   "language": "python",
   "name": "python3"
  },
  "language_info": {
   "codemirror_mode": {
    "name": "ipython",
    "version": 3
   },
   "file_extension": ".py",
   "mimetype": "text/x-python",
   "name": "python",
   "nbconvert_exporter": "python",
   "pygments_lexer": "ipython3",
   "version": "3.11.7"
  }
 },
 "nbformat": 4,
 "nbformat_minor": 2
}
